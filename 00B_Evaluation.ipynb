{
 "cells": [
  {
   "cell_type": "markdown",
   "metadata": {},
   "source": [
    "## Evaluation"
   ]
  },
  {
   "cell_type": "markdown",
   "metadata": {},
   "source": [
    "### Precision and fitness (or recall)"
   ]
  },
  {
   "cell_type": "markdown",
   "metadata": {},
   "source": [
    "From the perspective of information theory, \n",
    "\n",
    "> Precision $= \\cfrac{TP}{TP+FP}$\n",
    "\n",
    "> Fitness (or recall) $= \\cfrac{TP}{TP+FN}$\n",
    "\n",
    "> Where,\n",
    "\n",
    ">> $TP : $ True positive\n",
    "\n",
    ">> $FP : $ False positive\n",
    "\n",
    ">> $FN : $ False negative"
   ]
  },
  {
   "cell_type": "markdown",
   "metadata": {},
   "source": [
    "#### Why both precision and recall are needed?"
   ]
  },
  {
   "cell_type": "markdown",
   "metadata": {},
   "source": [
    "The venn diagram below illustrates the cases where fitness can be low, when precision is high (and vise versa)"
   ]
  },
  {
   "cell_type": "markdown",
   "metadata": {},
   "source": [
    "> <img src=\"files/petri_eval.png\" />"
   ]
  },
  {
   "cell_type": "markdown",
   "metadata": {},
   "source": [
    "### Effect of simplicity on fitness and precision\n",
    "\n",
    "> When **more places** are added, the model becomes **more complex** $\\implies$ the size of modelled behaviour (in the diagram) decreases $\\implies$ **Fitness decreases and precision increases**"
   ]
  },
  {
   "cell_type": "markdown",
   "metadata": {},
   "source": [
    "#### Causal footprint\n",
    "\n",
    "> According to this method (as described in the lecture), we get perfect score only if the **observed behaviour is exactly same as modelled behaviour**. That is, \n",
    "\n",
    "> Perfect causal foot print match $\\implies$ When both fitness and precision according to our definitions is 100%\n",
    "\n",
    "> I see that metrics derived from causal footprints aim to compute metrics similar to **F1 score** (harmonic mean of precision and fitness)\n",
    "\n",
    ">> F1 Score $ = \\cfrac{2 \\times \\text{Precision x Fitness}}{\\text{Precision + Fitness}}$\n",
    "\n",
    ">  Eg, Flower model will have less precision score even with perfect fitness. Thus, causal footprints can identify underfitting"
   ]
  },
  {
   "cell_type": "markdown",
   "metadata": {},
   "source": [
    "#### Token based conformance checking\n",
    "\n",
    "> Quantifies just fitness.\n",
    "\n",
    "> Flower model can get a perfect score"
   ]
  },
  {
   "cell_type": "markdown",
   "metadata": {},
   "source": [
    "### Need for generalization metric\n",
    "\n",
    "> In most cases, the **observed behaviour** (in the event log) **may be just a partial of the actual behaviour**\n",
    "\n",
    "> Precision and fitness are computed only in relation to the observed behaviour. Therefore, in case of partial observation, **it may be necessary to differentiate two models with same precision and fitness score, in terms of generalization**."
   ]
  },
  {
   "cell_type": "markdown",
   "metadata": {},
   "source": [
    "> <img src=\"files/petri_eval2.png\" />"
   ]
  },
  {
   "cell_type": "markdown",
   "metadata": {},
   "source": [
    "### Evaluation - Balance of 4 forces\n",
    "\n",
    "> 1) Observed behaviour should (probablisticaly) approximate the actual behaviour as much as possible\n",
    "\n",
    "> 2) **Fitness or precision should be approx 80%**. This will prevent underfitting (flower model) and overfitting (restricts the number of places to maintain simplicity)\n",
    "\n",
    ">> Underfitting $\\implies$ High fitness\n",
    "\n",
    ">> Overfitting $\\implies$ High precision \n",
    "\n",
    "> 3) **Assign the costs of legal moves in such a way that the cost is high for paths that are not allowed**"
   ]
  },
  {
   "cell_type": "markdown",
   "metadata": {},
   "source": [
    "> <img src=\"files/petri_eval3.png\" />"
   ]
  },
  {
   "cell_type": "code",
   "execution_count": null,
   "metadata": {},
   "outputs": [],
   "source": []
  }
 ],
 "metadata": {
  "kernelspec": {
   "display_name": "Python 3",
   "language": "python",
   "name": "python3"
  },
  "language_info": {
   "codemirror_mode": {
    "name": "ipython",
    "version": 3
   },
   "file_extension": ".py",
   "mimetype": "text/x-python",
   "name": "python",
   "nbconvert_exporter": "python",
   "pygments_lexer": "ipython3",
   "version": "3.4.3"
  }
 },
 "nbformat": 4,
 "nbformat_minor": 2
}
