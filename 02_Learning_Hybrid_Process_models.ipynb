{
 "cells": [
  {
   "cell_type": "markdown",
   "metadata": {},
   "source": [
    "## [Learning Hybrid Process Models From Events](https://arxiv.org/abs/1703.06125)\n",
    "\n",
    "> **Ref : **\n",
    "\n",
    "> Aalst, Wil M. P. van der, Riccardo De Masellis, Chiara Di Francescomarino and Chiara Ghidini. “Learning Hybrid Process Models from Events - Process Discovery Without Faking Confidence.” (2017).\n",
    "\n",
    "### Summary"
   ]
  },
  {
   "cell_type": "markdown",
   "metadata": {},
   "source": [
    "Event logs often contains **incomplete** and **infrequent behaviours**, creating **complex dependencies** with **formal semantics**. **Removing** these outliers can result in a **simpler process model**. But instead of leaving out the weak or complex dependencies, they can also be depicted in an **informal manner**.  \n",
    "\n",
    "The central idea in a hybrid miner is to have formal semantics for strong causal relation whenever there is enough structure and evidence in the data, and model other relations using informal semantics with different types of arcs indicating level of certainity. "
   ]
  },
  {
   "cell_type": "markdown",
   "metadata": {},
   "source": [
    "> Hybrid petri net $HPN = (P,T,F_1, F_2, F_3)$\n",
    "\n",
    "> Where,\n",
    "\n",
    ">> $P $: set of places\n",
    "\n",
    ">> $T $: set of transitions\n",
    "\n",
    ">> $F_1 $: Normal petrinet **arcs connecting activities through places**, $F_1 \\subseteq (P \\times T) \\cup (T \\times P)$\n",
    "\n",
    ">> $F_2 $: **Strong causalities** with arcs directly connecting transitions (**sure arcs**), $F_2 \\subseteq T \\times T$\n",
    "\n",
    ">> $F_3 $: **Weak causalities** with arcs directly connecting transitions (**unsure arcs**), $F_3 \\subseteq T \\times T$"
   ]
  },
  {
   "cell_type": "markdown",
   "metadata": {},
   "source": [
    "### Discovering Hybrid process models"
   ]
  },
  {
   "cell_type": "markdown",
   "metadata": {},
   "source": [
    "Discovering HPN involves finding all the arcs and places in the above formalism\n",
    "\n",
    "> 1) Build the **causal graph** and classify the causalities as **strong** or **weak**\n",
    "\n",
    ">> Causal graph $G = (\\mathbf{\\Sigma}, R_S, R_W)$\n",
    "\n",
    ">> Where,\n",
    "\n",
    ">>> $\\mathbf{\\Sigma}$ : Set of **all activities** including **unique start and end activity**\n",
    "\n",
    ">>> $R_S \\subseteq \\mathbf{\\Sigma} \\times \\mathbf{\\Sigma}$ : Set of **strong causal relations**\n",
    "\n",
    ">>> $R_W \\subseteq \\mathbf{\\Sigma} \\times \\mathbf{\\Sigma}$ : Set of **weak causal relations**\n",
    "\n",
    ">>> $R_S \\cup R_W = \\phi$\n",
    "\n",
    ">> Let $L \\in \\mathcal{B}(\\mathbf{\\Sigma}^+)$ and $\\{a,b\\} \\subseteq \\mathbf{\\Sigma}$\n",
    "\n",
    ">> Compute $Rel_1(a,b,L)$ which counts the **strength of relation (a,b) relative to XOR-split and joint behaviour** \n",
    "\n",
    ">>> $Rel_1(a,b,L) = \\cfrac{2 \\times \\#(a \\to b)}{\\#(a \\to *) + \\#(* \\to b)}$\n",
    "\n",
    ">> Compute $Rel_2(a,b,L)$ to take into account **concurrency and loops**\n",
    "\n",
    ">>> $ Rel_2(a,b,L) =\n",
    "  \\begin{cases}\n",
    "    \\cfrac{\\#(a \\to b) - \\#(b \\to a)}{\\#(a \\to b) + \\#(b \\to a) + 1}       & \\quad \\text{if } \\#(a \\to b) - \\#(b \\to a) \\gt 0\\\\ \\\\\n",
    "    \\cfrac{\\#(a \\to b)}{\\#(a \\to b) + 1}       & \\quad \\text{if } a=b\\\\ \\\\\n",
    "    0 & \\quad \\text{otherwise}\n",
    "  \\end{cases}$\n",
    "  \n",
    ">> Quantify **causal relation** $Caus_w(a,b,L)$\n",
    "\n",
    ">>> $Caus_w(a,b,L) = w.Rel_1 + (1-w).Rel_2 \\qquad$ Where $w \\in [0,1]$ \n",
    "\n",
    ">> **Effect of $w$** : Setting $w=0$ boosts the quantification of concurrent and loop relations, and makes the resulting process model more complex. I see $w$ as a parameter that controls the complexity of process model in terms of concurrency and loops\n",
    "\n",
    ">> Let $\\mathbf{\\Sigma'}$ be set of all activities occuring atleast $t_{freq}$ times (start and end activities are always included)\n",
    "\n",
    ">> Now we can classify the causal relations as strong or weak\n",
    "\n",
    ">>> $R_S = \\{(a,b) \\in \\mathbf{\\Sigma'} \\times \\mathbf{\\Sigma'} \\ \\mid \\ Caus_w(a,b,L\\upharpoonright_{\\mathbf{\\Sigma'}}) \\geq t_{Rs}\\} $ \n",
    "\n",
    ">>> $R_W = \\{(a,b) \\in \\mathbf{\\Sigma'} \\times \\mathbf{\\Sigma'} \\ \\mid \\ Caus_w(a,b,L\\upharpoonright_{\\mathbf{\\Sigma'}}) \\geq t_{Rw}\\} $ \n",
    "\n",
    ">>> $t_{Rs} \\geq t_{Rw}$"
   ]
  },
  {
   "cell_type": "markdown",
   "metadata": {},
   "source": [
    "> 2) Generate **candidate places** on relations in set $R_S$ and evaluate using replay techniques. Then,\n",
    "\n",
    ">> $F_1 $: Strong causalities($\\in R_S$) that **can** be expressed in terms of places\n",
    "\n",
    ">> $F_2 $ = Strong causalities($\\in R_S$) that **cannot** be expressed in terms of places\n",
    "\n",
    ">> $F_3 = R_W$\n",
    "\n",
    ">> Let **set of candidate places** be $\\{ p=(I,O) \\ \\mid \\ I \\neq \\phi \\ \\cap \\ O \\neq \\phi \\ \\cap \\ I\\times O \\subseteq R_S \\}$\n",
    "\n",
    ">> Where\n",
    "\n",
    ">>> $\\bullet p = I$ is the set of **input transitions to place P**\n",
    "\n",
    ">>> $p \\bullet  = O$ is the set of **output transitions from place P**\n",
    "\n",
    ">> Compute the **score** for each candidate place, considering the **fraction of fitting traces**\n",
    "\n",
    ">>> Recall that **adding places will inhibit behaviour**\n",
    "\n",
    ">>> Eg. Adding places with $\\bullet p1, \\bullet p2 = \\{a\\}$, $ p1 \\bullet = \\{b\\}$, $ p2 \\bullet = \\{c\\}$ in the following petrinet will now force the behaviour to contain both **b** and **c** (i.e trace < a,c \\> will no longer fit) \n",
    "\n",
    "<img src=\"files/placesfit.png\" width=200px/>\n",
    "\n",
    ">> Therefore, **if a place p does not inhibit a trace $\\sigma$**, then the following **conditions** will be satisfied\n",
    "\n",
    ">>> 1) Check correctness at **AND-Splits**: $ \\mid\\{ 1 \\leq i \\le |\\sigma| \\mid a_i \\in I\\} \\mid \\ = \\ \\ \\mid\\{ 1 \\leq i \\leq |\\sigma| \\mid a_i \\in O\\} \\mid $\n",
    "\n",
    ">>> 2) Check correctness at **XOR-Splits**: $\\forall k \\in \\{1,..,|\\sigma|\\}: \\ \\mid\\{ 1 \\leq i \\le k \\mid a_i \\in I\\} \\mid \\ \\geq \\ \\ \\mid\\{ 1 \\leq i \\leq k \\mid a_i \\in O\\} \\mid $\n",
    "\n",
    ">> A place that satisfy the above conditions is called a **replayable trace w.r.t to place p** and is denoted as   $\\checkmark(p,\\sigma)$\n",
    "\n",
    ">> Now **every candidate places can be scored in terms of replayable traces**\n",
    "\n",
    ">>> $score(p,L) \\ = \\ \\cfrac{\\mid \\sigma \\in L \\ \\mid \\ \\checkmark(p,\\sigma) \\ s.t \\ \\exists_{a \\in \\sigma} a \\in (I\\cup O) \\ \\mid}{\\mid \\sigma \\in L \\ \\mid \\ \\ \\exists_{a \\in \\sigma} a \\in (I\\cup O) \\ \\mid}$\n",
    "\n",
    ">>> which quantifies the **fraction of replayable traces that have been activated**\n",
    "\n",
    ">> If this score is greater than certain threshold $t_{replay}$, then the corresponding place is added to the process model\n",
    "\n",
    ">>> $Q = \\{p \\ \\mid \\ score(p,L\\upharpoonright_{\\mathbf{\\Sigma'}}) \\geq t_{replay}\\}$\n",
    "\n",
    ">>> Arcs $F_1$ can be formalized from $Q$. \n",
    "\n",
    ">>> $F_2$ is then the remaining arcs with strong causality without places\n",
    "\n",
    "> Thus we have computed all the parameters required for a Hybrid process model"
   ]
  },
  {
   "cell_type": "markdown",
   "metadata": {},
   "source": [
    "### Effect of hyper-parameters on fitness and precission"
   ]
  },
  {
   "cell_type": "markdown",
   "metadata": {},
   "source": [
    "> Remember, when number of places increases (simplicity reduces), fitness decreases and precission increases. (and vice versa)\n",
    "\n",
    ">>1) $t_{replay}$ is **less** $\\implies$ **more places** are added $\\implies$ **fitness decreases and precission increases**\n",
    "\n",
    ">>2) $t_{Rs}$ is **less** $\\implies$ **more strong relations** (or more candidate places) $\\implies$ chances for **more places to be added** $\\implies$ **fitness decreases and precission increases**\n",
    "\n",
    ">>3) $w$ is **less** $\\implies$ **loops and concurrent relations** have **high causality score** $\\implies$ **more strong relations** (or more candidate places) $\\implies$ chances for **more places to be added** $\\implies$ **precission increases**"
   ]
  },
  {
   "cell_type": "code",
   "execution_count": null,
   "metadata": {},
   "outputs": [],
   "source": []
  }
 ],
 "metadata": {
  "kernelspec": {
   "display_name": "Python 3",
   "language": "python",
   "name": "python3"
  },
  "language_info": {
   "codemirror_mode": {
    "name": "ipython",
    "version": 3
   },
   "file_extension": ".py",
   "mimetype": "text/x-python",
   "name": "python",
   "nbconvert_exporter": "python",
   "pygments_lexer": "ipython3",
   "version": "3.4.3"
  }
 },
 "nbformat": 4,
 "nbformat_minor": 2
}
