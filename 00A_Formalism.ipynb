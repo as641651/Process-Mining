{
 "cells": [
  {
   "cell_type": "markdown",
   "metadata": {},
   "source": [
    "## Set Notations review"
   ]
  },
  {
   "cell_type": "markdown",
   "metadata": {},
   "source": [
    "> **Finite Set**\n",
    "\n",
    ">> $\\mathbf{X} = \\{a_1,a_2,a_3,...,a_n\\}$\n",
    "\n",
    "> **Power set** of **X** is **set of all possible subset of X**\n",
    "\n",
    ">> $\\mathcal{P}(\\mathbf{X}) = \\{ \\{\\}, \\{a_1\\}, \\{a_2\\}, \\{a_c\\}, \\{a_1,a_2\\} ..., \\{a_1,a_2,a_3,..,a_n\\} \\}$\n",
    "\n",
    ">> Cardinality : $|\\mathcal{P}(\\mathbf{X})| = 2^{|X|}$\n",
    "\n",
    "> **Multi set** of $\\mathbf{X}$ is\n",
    "\n",
    ">> $\\mathcal{B}(\\mathbf{X}) = [a_1^{w1}, a_2^{w2}, ..., a_n^{wn}] \\qquad$ where $\\qquad w_i \\in \\mathbb{N}^+$"
   ]
  },
  {
   "cell_type": "markdown",
   "metadata": {},
   "source": [
    "## Process mining Formalism"
   ]
  },
  {
   "cell_type": "markdown",
   "metadata": {},
   "source": [
    "> $\\mathbf{\\Sigma}$ : Set of all **observed activities** \n",
    "\n",
    ">> Eg. $\\mathbf{\\Sigma} = \\{a,b,c\\}$ \n",
    "\n",
    "> $\\mathbf{\\Sigma}^+$ : Set of all non-empty sequences over set $\\mathbf{\\Sigma}$\n",
    "\n",
    ">> Eg. $\\mathbf{\\Sigma}^+ = \\{ <a,b,c> , <a,c,b>, <c,b,a>, <b,a,c>, <a,b> ... ,<a>, <b>, <c> \\}$\n",
    "\n",
    "> Each sequence in $\\mathbf{\\Sigma}^+$ is called a **trace**\n",
    "\n",
    ">> $\\sigma \\in \\mathbf{\\Sigma}^+$\n",
    "\n",
    "> **Event log (L)** is a **multiset of traces**\n",
    "\n",
    ">> Eg. $\\mathbf{L} = \\{ <a,b,c>^3, <b,a,c>^9 \\} \\subseteq \\mathcal{B}(\\mathbf{\\Sigma}^+) $\n",
    "\n",
    "> **Process discovery** \n",
    "\n",
    ">> $PD: \\mathcal{B}(\\mathbf{\\Sigma}^+) \\to \\mathcal{M} \\qquad$ where $\\mathcal{M}$ is a set of all possible **process models**"
   ]
  },
  {
   "cell_type": "markdown",
   "metadata": {},
   "source": [
    "### Labelled Petri Nets\n",
    "\n",
    "> **Directed [Bi-partite graph](http://mathworld.wolfram.com/BipartiteGraph.html)** containing arcs (**F**) between two disjoint sets **Places (P)** and **Transitions (T)** with a labelling function (**l**), which is a partial map of transitions to activities. ( This is done to allow for multiple activities to have same labels ?)\n",
    "\n",
    ">> Labelled Petrinet $\\mathbf{N} = <\\mathbf{P}, \\mathbf{T}, \\mathbf{F}, l>$\n",
    "\n",
    ">> $ l : \\mathbf{T} \\to \\mathbf{\\Sigma} \\bigcup \\{ \\tau \\} \\qquad$ where $\\tau$ is **silent transition**\n",
    "\n",
    ">> $\\mathbf{P} \\cap \\mathbf{T} = \\phi$\n",
    "\n",
    ">> $\\mathbf{F} \\subseteq (\\mathbf{P} \\times \\mathbf{T}) \\cup (\\mathbf{T} \\cup \\mathbf{P})$\n",
    "\n",
    ">>> Eg. \n",
    "\n",
    ">>> $l : \\mathbf{T} \\to \\mathbf{\\Sigma} = \\{A,B,C,D\\}$\n",
    "\n",
    ">>> $\\mathbf{P} = \\{S1,S2,S3,S4,S5,S6\\} $\n",
    "\n",
    "<img src=\"files/petrinet.png\" width=500px />"
   ]
  },
  {
   "cell_type": "markdown",
   "metadata": {},
   "source": [
    "### State of the Petri Net"
   ]
  },
  {
   "cell_type": "markdown",
   "metadata": {},
   "source": [
    "> State of a petrinet is defined by **marking (m)**,  which is a **multiset of Places**\n",
    "\n",
    ">> $m \\in \\mathcal{B}(\\mathbf{P})$\n",
    "\n",
    ">> Eg. $m = [S4, S2]$\n",
    "\n",
    "<img src=\"files/petristate.png\" width=500px />"
   ]
  },
  {
   "cell_type": "markdown",
   "metadata": {},
   "source": [
    "> Notations for **Input and Output places** of a transition\n",
    "\n",
    ">> $\\bullet t_A = \\{S1\\} \\qquad$ is the set of input places for transition related to activity A\n",
    "\n",
    ">> $t_A \\bullet = \\{S2, S4\\} \\qquad$ is the set of output places for transition related to activity A\n",
    "\n",
    "> A **transition ($t \\in \\mathbf{T} $)** is **enabled** for marking **m** in net **N**, if all its **input places contain atleast one token**. This is denoted as,\n",
    "\n",
    ">> $(N,m)[t \\rangle$\n",
    "\n",
    "> When a transition **t** fires, one token is removed from it's imput places and one token is added to it's output places. This leads to a **new marking (m')** :\n",
    "\n",
    ">> $m \\xrightarrow{\\text{t}} m' = m - \\bullet t + t \\bullet$\n",
    "\n",
    ">> Also denoted as : $(N,m)[t \\rangle (N, m')$\n",
    "\n",
    "> **Firing sequence** is a **sequence of transitions** that lead from one marking to another.\n",
    "\n",
    ">> $m \\xrightarrow{\\gamma} m'\\qquad$ where $\\gamma \\in \\mathbf{T^+}$\n",
    "\n",
    ">> Also denoted as : $(N,m)[\\gamma \\rangle (N, m')$"
   ]
  },
  {
   "cell_type": "markdown",
   "metadata": {},
   "source": [
    "### General Petrinet Process model - System Net"
   ]
  },
  {
   "cell_type": "markdown",
   "metadata": {},
   "source": [
    "> Petrinet with an **initial marking ($m_0$)** and a **final marking ($m_f$)**\n",
    "\n",
    ">> $ M : \\quad \\mathcal{B}(\\mathbf{\\Sigma}^+) \\supseteq \\quad \\mathbf{L} \\to (N, m_0, m_f ) \\quad \\in \\mathcal{M}\\qquad$ Where $N$ is the petrinet and **L** is the event log\n",
    "\n",
    "> **Language** of a **system net (M)** is a **set of all visible traces**( silent moves are not included) **with valid firing sequence** from initial to final marking\n",
    "\n",
    ">> $\\mathcal{L}(M) = \\{ \\quad \\sigma =  l(\\gamma) \\quad | \\quad \\sigma \\in \\mathbf{\\Sigma}^+ \\quad \\gamma \\in \\mathbf{T}^+ \\quad \\text{s.t} \\quad m_0 \\xrightarrow{\\gamma} m_f \\quad  \\}$ \n",
    "\n",
    ">>> where $l$ is the labelling function defined above and $\\gamma$ is a firing sequence\n",
    "\n",
    ">> $\\mathcal{L}(M) \\subseteq \\mathbf{\\Sigma}^+$\n",
    "\n",
    "> **Set of all complete firing sequences** of a **system net (M)** is denoted as \n",
    "\n",
    ">> $\\mathcal{T}(M) = \\{ \\quad \\gamma \\quad | \\quad \\gamma \\in \\mathbf{T}^+ \\quad \\text{s.t} \\quad m_0 \\xrightarrow{\\gamma} m_f \\quad  \\}$ "
   ]
  },
  {
   "cell_type": "markdown",
   "metadata": {},
   "source": [
    "### Alignment formalism"
   ]
  },
  {
   "cell_type": "markdown",
   "metadata": {},
   "source": [
    "> Let **M** be a process model discovered by **playing-in** the event log **L** with observed set of activities $\\mathbf{\\Sigma}$,\n",
    "\n",
    ">> $L \\in \\mathcal{B}(\\mathbf{\\Sigma}^+)$\n",
    "\n",
    ">> $M : \\quad L \\to (N, m_0, m_f) \\in \\mathcal{M}$\n",
    "\n",
    ">> $N = (P,T,F,l) \\qquad$ where $l : T \\to \\mathbf{\\Sigma} \\bigcup \\{ \\tau \\}$\n",
    "\n",
    "> Let **A** be the set of activities observed in new set of event traces from log $\\tilde{L}$\n",
    "\n",
    ">> $\\tilde{L} \\in \\mathcal{B}(\\mathbf{A}^+)$\n",
    "\n",
    "> Traces in $\\tilde{L}$ are **not always contained** in the **Language** of the system net $\\mathcal{L}(M)$. \n",
    "\n",
    "> Therefore, an **alignment** ($\\Gamma$) is required, which **maps** every **trace in $\\tilde{L}$ to language of SN $\\mathcal{L}(M)$**\n",
    "\n",
    ">> $\\Gamma \\quad : \\quad \\tilde{L} \\ni \\sigma_{\\tilde{L}} \\to \\sigma_M \\in \\mathcal{L}(M)$\n",
    "\n",
    "> There can be **more than one alignment** in the model for a trace in the log. **Set of all alignments** for a trace is denoted as\n",
    "\n",
    ">> $\\Gamma_{\\sigma_{L},M} = \\{ \\sigma_M \\quad | \\quad \\forall \\quad \\sigma_{\\tilde{L}} \\to \\sigma_M \\quad \\sigma_M \\in range(\\Gamma) \\}$\n",
    "\n",
    "> ### Optimal Alignment\n",
    "\n",
    "> In order to find the optimal alignment, a **cost** is **assigned** to every **legal move**. \n",
    "\n",
    "> A **move** is denoted as\n",
    "\n",
    ">> $(x,(y,t)) \\qquad$ where $x \\in \\mathbf{A} \\quad y \\in \\mathbf{\\Sigma} \\quad t \\in \\mathbf{T}$\n",
    "\n",
    "> A **set of legal moves** is denoted as\n",
    "\n",
    ">> $ A_{LM} = $\n",
    "\n",
    ">> $\\{ (x,(x,t)) \\ | \\ x \\in \\mathbf{A} \\ \\cap \\ t \\in \\mathbf{T} \\ \\cap \\ l(t)=x\\} \\quad \\bigcup \\\\ \\{ (\\gg,(x,t)) \\ | \\ t \\in \\mathbf{T} \\ \\cap \\ l(t)=x \\} \\quad \\bigcup \\\\ \\{ (x,\\gg) \\quad | \\quad x \\in \\mathbf{A} \\}$ \n",
    "\n",
    "> A **cost of a legal move**($\\delta$) is denoted as\n",
    "\n",
    ">> $\\delta \\quad : \\quad A_{LM} \\to \\mathbb{N} $\n",
    "\n",
    "> An **alignment** ($\\tilde{\\sigma_{A}}$) can also be seen as a **sequence of legal moves**,\n",
    "\n",
    ">> $\\tilde{\\sigma_A} \\in A_{LM}^+$\n",
    "\n",
    "> **Cost of an alignment** ($C_M$) is the sum of cost of all the legal moves in sequence\n",
    "\n",
    ">> $C_{M} : \\quad A_{LM}^+ \\ni \\tilde{\\sigma_A} \\to \\sum_{i} \\delta_i \\in \\mathbb{R}$\n",
    "\n",
    "> **Optimal alignment** (${\\sigma_{\\tilde{L}}}^{*} \\in \\Gamma_{\\sigma_{L},M}$) for a trace($\\sigma_{\\tilde{L}}$) in model **M** \n",
    "\n",
    ">> $ \\sigma_{\\tilde{L}}^* = argmin_{\\sigma_A} \\{C_M (\\tilde{\\sigma_A}) \\quad | \\quad \\forall \\quad \\sigma_A \\in \\Gamma_{\\sigma_L , M} \\quad \\text{s.t} \\quad \\tilde{\\sigma_A} \\to \\sigma_A = \\tilde{\\sigma_A} \\upharpoonright_{\\tilde{\\sigma_A}[y] \\ / \\ \\{\\gg, \\tau \\}}\\}$"
   ]
  },
  {
   "cell_type": "markdown",
   "metadata": {},
   "source": [
    "### References\n",
    "\n",
    "> [1] Tax, N., Sidorova, N. & van der Aalst, W.M.P. J Intell Inf Syst (2019) 52: 107. https://doi.org/10.1007/s10844-018-0507-6\n",
    "\n",
    "> [2] Aalst, van der, W. M. P. (2013). Decomposing Petri nets for process mining : a generic approach. Distributed and Parallel Databases, 31(4), 471-507. DOI: 10.1007/s10619-013-7127-5\n"
   ]
  },
  {
   "cell_type": "code",
   "execution_count": null,
   "metadata": {},
   "outputs": [],
   "source": []
  }
 ],
 "metadata": {
  "kernelspec": {
   "display_name": "Python 3",
   "language": "python",
   "name": "python3"
  },
  "language_info": {
   "codemirror_mode": {
    "name": "ipython",
    "version": 3
   },
   "file_extension": ".py",
   "mimetype": "text/x-python",
   "name": "python",
   "nbconvert_exporter": "python",
   "pygments_lexer": "ipython3",
   "version": "3.4.3"
  }
 },
 "nbformat": 4,
 "nbformat_minor": 2
}
