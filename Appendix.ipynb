{
 "cells": [
  {
   "cell_type": "markdown",
   "metadata": {},
   "source": [
    "## Appendix"
   ]
  },
  {
   "cell_type": "markdown",
   "metadata": {},
   "source": [
    "1) **Process mining from simulation science perspective**\n",
    "\n",
    "> **Simulation** : Modelling a system whose semantic parameters (eg causal relations) are based on facts. \n",
    "\n",
    ">> **Data-driven simulation** : Modelling a system, whose semantic parameters (eg causal relations) are based on facts, which are derived from event data. **Process mining** is based on data driven simulation.\n",
    "\n",
    "> Note: In some litreature, simulation and data science have been looked up on as two opposite ends on a spectrum. However, it is more comfortable for me to view data science as a special case of simulation science, where you establish the simulation parameters from data. I would rather make a spectrum of models that rely on domain knowledge on one end and event data on the other end. But this is just one of the perspectives of definitions."
   ]
  },
  {
   "cell_type": "markdown",
   "metadata": {},
   "source": [
    "2) **Precission**: When your model **does not allow** for behaviour that are not observed in the event data which was used for discovery.\n",
    "\n",
    ">> High precission $\\implies$ Overfitting\n",
    "\n",
    ">> Can be quantified by comparing **causal footprints** in the event log and discovered model. (Silent transitions in the model can influence this metric?)\n",
    "\n",
    "3) **Generalization**: When your model **allows** for behaviours that are not observed in event data which was used for discovery\n",
    "\n",
    ">> High generalization $\\implies$ Underfitting\n",
    "\n",
    ">> Can be quantgified with **token based conformance checking**"
   ]
  },
  {
   "cell_type": "code",
   "execution_count": null,
   "metadata": {},
   "outputs": [],
   "source": []
  }
 ],
 "metadata": {
  "kernelspec": {
   "display_name": "Python 3",
   "language": "python",
   "name": "python3"
  },
  "language_info": {
   "codemirror_mode": {
    "name": "ipython",
    "version": 3
   },
   "file_extension": ".py",
   "mimetype": "text/x-python",
   "name": "python",
   "nbconvert_exporter": "python",
   "pygments_lexer": "ipython3",
   "version": "3.4.3"
  }
 },
 "nbformat": 4,
 "nbformat_minor": 2
}
